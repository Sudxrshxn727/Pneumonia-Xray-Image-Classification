{
 "cells": [
  {
   "cell_type": "code",
   "execution_count": 1,
   "id": "7f89532f",
   "metadata": {},
   "outputs": [],
   "source": [
    "import os\n",
    "import shutil\n",
    "import random"
   ]
  },
  {
   "cell_type": "code",
   "execution_count": 2,
   "id": "f5029869",
   "metadata": {},
   "outputs": [],
   "source": [
    "# Path to the folder containing the labeled image folders\n",
    "source_dir = r'C:/Users/sudar/Downloads/Pneumonia/Curated X-Ray Dataset'\n",
    "\n",
    "# Define the paths for train and test datasets\n",
    "train_dir = 'C:/Users/sudar/Downloads/Pneumonia/Train'\n",
    "test_dir = 'C:/Users/sudar/Downloads/Pneumonia/Test'\n",
    "\n",
    "# Define the train-test split ratio\n",
    "split_ratio = 0.9  # 90% train, 10% test\n",
    "\n",
    "# Create the train and test directories\n",
    "os.makedirs(train_dir, exist_ok=True)\n",
    "os.makedirs(test_dir, exist_ok=True)\n",
    "\n",
    "# Iterate through the labeled folders\n",
    "for label_folder in os.listdir(source_dir):\n",
    "    if os.path.isdir(os.path.join(source_dir, label_folder)):\n",
    "        label_images = os.listdir(os.path.join(source_dir, label_folder))\n",
    "        random.shuffle(label_images)\n",
    "\n",
    "        # Split the images based on the defined split_ratio\n",
    "        split_index = int(len(label_images) * split_ratio)\n",
    "        train_images = label_images[:split_index]\n",
    "        test_images = label_images[split_index:]\n",
    "\n",
    "        # Copy train images to the train directory\n",
    "        for train_image in train_images:\n",
    "            src_path = os.path.join(source_dir, label_folder, train_image)\n",
    "            dst_path = os.path.join(train_dir, label_folder, train_image)\n",
    "            os.makedirs(os.path.dirname(dst_path), exist_ok=True)\n",
    "            shutil.copy(src_path, dst_path)\n",
    "\n",
    "        # Copy test images to the test directory\n",
    "        for test_image in test_images:\n",
    "            src_path = os.path.join(source_dir, label_folder, test_image)\n",
    "            dst_path = os.path.join(test_dir, label_folder, test_image)\n",
    "            os.makedirs(os.path.dirname(dst_path), exist_ok=True)\n",
    "            shutil.copy(src_path, dst_path)"
   ]
  },
  {
   "cell_type": "code",
   "execution_count": null,
   "id": "afd75afd",
   "metadata": {},
   "outputs": [],
   "source": []
  }
 ],
 "metadata": {
  "kernelspec": {
   "display_name": "Python 3 (ipykernel)",
   "language": "python",
   "name": "python3"
  },
  "language_info": {
   "codemirror_mode": {
    "name": "ipython",
    "version": 3
   },
   "file_extension": ".py",
   "mimetype": "text/x-python",
   "name": "python",
   "nbconvert_exporter": "python",
   "pygments_lexer": "ipython3",
   "version": "3.10.8"
  }
 },
 "nbformat": 4,
 "nbformat_minor": 5
}
